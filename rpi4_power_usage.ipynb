{
 "cells": [
  {
   "cell_type": "markdown",
   "id": "191272af-148b-4d57-aa05-e7fb479709c5",
   "metadata": {},
   "source": [
    "# RPI4 Power Usage Calculations"
   ]
  },
  {
   "cell_type": "markdown",
   "id": "44b13d37-1762-4e3f-8359-a3ff390a1386",
   "metadata": {},
   "source": [
    "## Introduction\n",
    "In this JupyterLab notebook we are going to be exploring some **power usage** stats for the **Raspberry Pi 4**. The **kWh** cost we are using is taken from: https://www.eia.gov/electricity/monthly/epm_table_grapher.php?t=epmt_5_6_a. At the bottom of this document, you will see a total for **residential** usage. That number `12.69` is in **cents/kWh**. Here we convert it to **Dollars(USD)/kWh** `0.1269`. The **RPi 4** power draw at **idle** and **full** (`2.7` and `6.4` respectively) are taken from [Jeff Geerling's benchmarks](https://www.pidramble.com/wiki/benchmarks/power-consumption)."
   ]
  },
  {
   "cell_type": "markdown",
   "id": "7f09beea-905d-482b-b1e5-ae37f1472694",
   "metadata": {},
   "source": [
    "## Setup\n",
    "First we need to setup a few things ......"
   ]
  },
  {
   "cell_type": "code",
   "execution_count": 8,
   "id": "4902db77-69d3-49ae-9b2b-9b140d2c409c",
   "metadata": {},
   "outputs": [],
   "source": [
    "# global func to print out rpi4 power usage stats\n",
    "def rpi_power_stats(idle_time, full_time, idle_cost, full_cost, time_period):\n",
    "    print('This gives {:.4f} kwhn at idle and {:.4f} kwh at full usage (100% CPU usage)' \\\n",
    "          'or ${:.4f} and ${:.4f} cost respectively over a {} time period'.format(idle_time, full_time, idle_cost, full_cost, time_period))\n",
    "    \n",
    "# Here are a few details concerning the power usage of a Raspberry Pi 4\n",
    "idle_power = 2.7 # in Watts\n",
    "full_power = 6.4 # in Watts\n",
    "kwh_cost = 0.1269 # average residential electricy rates in USD/kWh for January 2021\n",
    "\n",
    "# Now we can convert them to kW\n",
    "ip_kw = idle_power / 1000.00\n",
    "fp_kw = full_power / 1000.00"
   ]
  },
  {
   "cell_type": "markdown",
   "id": "16344e2f-fee3-4b5a-8d1d-fb73612c6f24",
   "metadata": {},
   "source": [
    "## Calculations"
   ]
  },
  {
   "cell_type": "markdown",
   "id": "394b2b6f-b6c6-49d3-b797-d2254ecb3ec5",
   "metadata": {},
   "source": [
    "### 24 hours\n",
    "First lets look at the **power usage** stats for **24 hours**"
   ]
  },
  {
   "cell_type": "code",
   "execution_count": 9,
   "id": "84c7b39e-f645-4a69-b8ec-8e26764f8398",
   "metadata": {},
   "outputs": [
    {
     "name": "stdout",
     "output_type": "stream",
     "text": [
      "This gives 0.0648 kwhn at idle and 0.1536 kwh at full usage (100% CPU usage)or $0.0082 and $0.0195 cost respectively over a 24 hour time period\n"
     ]
    }
   ],
   "source": [
    "# Now we can calculate the energy used in a 24 hour period (in kWh)\n",
    "day_idle = ip_kw * 24\n",
    "day_full = fp_kw * 24\n",
    "\n",
    "# and the cost in USD\n",
    "day_idle_cost = day_idle * kwh_cost\n",
    "day_full_cost = day_full * kwh_cost\n",
    "\n",
    "# results\n",
    "rpi_power_stats(day_idle, day_full, day_idle_cost, day_full_cost, '24 hour')"
   ]
  },
  {
   "cell_type": "markdown",
   "id": "e1d0ecf1-03f5-49b1-9213-297dc2bc476f",
   "metadata": {},
   "source": [
    "### 1 Week\n",
    "Next lets look at the **power usage** stats for **7 days**"
   ]
  },
  {
   "cell_type": "code",
   "execution_count": 10,
   "id": "e2e89d96-188a-4404-a9dc-fcb80948752c",
   "metadata": {},
   "outputs": [
    {
     "name": "stdout",
     "output_type": "stream",
     "text": [
      "This gives 0.4536 kwhn at idle and 1.0752 kwh at full usage (100% CPU usage)or $0.0576 and $0.1364 cost respectively over a 1 week time period\n"
     ]
    }
   ],
   "source": [
    "# What about a full week (24 hours * 7 days = 168 hours)?\n",
    "week_idle = ip_kw * 168\n",
    "week_full = fp_kw * 168\n",
    "\n",
    "# and the cost in USD\n",
    "week_idle_cost = week_idle * kwh_cost\n",
    "week_full_cost = week_full * kwh_cost\n",
    "\n",
    "# results\n",
    "rpi_power_stats(week_idle, week_full, week_idle_cost, week_full_cost, '1 week')"
   ]
  },
  {
   "cell_type": "markdown",
   "id": "30ec6459-d40b-4164-a3ca-822415c43da4",
   "metadata": {},
   "source": [
    "### 1 Month\n",
    "Next lets look at the **power usage** stats for **1 month**"
   ]
  },
  {
   "cell_type": "code",
   "execution_count": 11,
   "id": "665240ad-2064-4c2e-b627-4e07527dcb5a",
   "metadata": {},
   "outputs": [
    {
     "name": "stdout",
     "output_type": "stream",
     "text": [
      "This gives 1.9440 kwhn at idle and 4.6080 kwh at full usage (100% CPU usage)or $0.2467 and $0.5848 cost respectively over a 1 month time period\n"
     ]
    }
   ],
   "source": [
    "# Now what about a month (24 hours * 30 days = 720 hours)?\n",
    "month_idle = ip_kw * 720\n",
    "month_full = fp_kw * 720\n",
    "\n",
    "# and the cost in USD\n",
    "month_idle_cost = month_idle * kwh_cost\n",
    "month_full_cost = month_full * kwh_cost\n",
    "\n",
    "# results\n",
    "rpi_power_stats(month_idle, month_full, month_idle_cost, month_full_cost, '1 month')"
   ]
  },
  {
   "cell_type": "markdown",
   "id": "2da7edfc-8507-4412-a555-2cd077973d0a",
   "metadata": {},
   "source": [
    "### 1 Year\n",
    "Finnally lets look at the **power usage** stats for **1 year**"
   ]
  },
  {
   "cell_type": "code",
   "execution_count": 12,
   "id": "51b87e0a-4963-4f87-98d1-2e62d0b5ea2b",
   "metadata": {},
   "outputs": [
    {
     "name": "stdout",
     "output_type": "stream",
     "text": [
      "This gives 23.3280 kwhn at idle and 55.2960 kwh at full usage (100% CPU usage)or $2.9603 and $7.0171 cost respectively over a 1 year time period\n"
     ]
    }
   ],
   "source": [
    "# And finally what about an entire year (24 hours * 30 days * 12 months = 8640 hours)?\n",
    "year_idle = ip_kw * 8640\n",
    "year_full = fp_kw * 8640\n",
    "\n",
    "# and the cost in USD\n",
    "year_idle_cost = year_idle * kwh_cost\n",
    "year_full_cost = year_full * kwh_cost\n",
    "\n",
    "# results\n",
    "rpi_power_stats(year_idle, year_full, year_idle_cost, year_full_cost, '1 year')"
   ]
  },
  {
   "cell_type": "markdown",
   "id": "4bbc309f-1b5a-418d-a453-c395c25eb89a",
   "metadata": {},
   "source": [
    "## BONUS ROUND"
   ]
  },
  {
   "cell_type": "markdown",
   "id": "acf1eb6e-ff5f-4071-adf2-7e9c04db5b47",
   "metadata": {},
   "source": [
    "### 10 Years\n",
    "For fun let's look at the **power usage** stats for **10 years** :)"
   ]
  },
  {
   "cell_type": "code",
   "execution_count": 13,
   "id": "844500c6-a5ed-4a19-b2ee-d0490ffd4862",
   "metadata": {},
   "outputs": [
    {
     "name": "stdout",
     "output_type": "stream",
     "text": [
      "This gives 233.2800 kwhn at idle and 552.9600 kwh at full usage (100% CPU usage)or $29.6032 and $70.1706 cost respectively over a 10 year time period\n"
     ]
    }
   ],
   "source": [
    "# What if we did 10 years (24 hours * 30 days * 12 months * 10 years = 86400 hours)?\n",
    "ten_year_idle = year_idle * 10\n",
    "ten_year_full = year_full * 10\n",
    "\n",
    "# and the cost\n",
    "ten_year_idle_cost = ten_year_idle * kwh_cost\n",
    "ten_year_full_cost = ten_year_full * kwh_cost\n",
    "\n",
    "# results\n",
    "rpi_power_stats(ten_year_idle, ten_year_full, ten_year_idle_cost, ten_year_full_cost, '10 year')"
   ]
  },
  {
   "cell_type": "markdown",
   "id": "8ffcdb3d-e318-4f92-a678-7c76f9323ca5",
   "metadata": {},
   "source": [
    "## Conclusion\n",
    "So, it would cost you `70.00 USD` to run a **Raspberry Pi 4** at `100% CPU usage` for `10 years` ...... "
   ]
  },
  {
   "cell_type": "markdown",
   "id": "900882b5-9b8b-464a-af1e-0e69237b4ace",
   "metadata": {},
   "source": [
    "<img src='images/alright.jpg'>"
   ]
  }
 ],
 "metadata": {
  "kernelspec": {
   "display_name": "Python 3",
   "language": "python",
   "name": "python3"
  },
  "language_info": {
   "codemirror_mode": {
    "name": "ipython",
    "version": 3
   },
   "file_extension": ".py",
   "mimetype": "text/x-python",
   "name": "python",
   "nbconvert_exporter": "python",
   "pygments_lexer": "ipython3",
   "version": "3.8.8"
  },
  "toc-autonumbering": false,
  "toc-showmarkdowntxt": false
 },
 "nbformat": 4,
 "nbformat_minor": 5
}
